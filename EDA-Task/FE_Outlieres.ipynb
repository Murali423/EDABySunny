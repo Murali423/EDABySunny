{
 "cells": [
  {
   "cell_type": "markdown",
   "id": "d8a42c72",
   "metadata": {},
   "source": [
    "### Feature Engineering Outlier handling"
   ]
  },
  {
   "cell_type": "markdown",
   "id": "fec4af33",
   "metadata": {},
   "source": [
    "Topics covered are below:\n",
    "1. Trimming outliers from the dataset\n",
    "2. Performing winsorization\n",
    "3. Capping the variable at arbitrary maximum and minimum values\n",
    "4. Performing zero-coding – capping the variable values at zero"
   ]
  },
  {
   "cell_type": "markdown",
   "id": "faed7935",
   "metadata": {},
   "source": [
    "### Trimming outliers from the dataset"
   ]
  },
  {
   "cell_type": "markdown",
   "id": "f92ccdd7",
   "metadata": {},
   "source": [
    "Trimming, or truncating, is the process of removing observations that show outliers in one\n",
    "or more variables in the dataset. There are three commonly used methods to set the\n",
    "boundaries beyond which a value can be considered an outlier. If the variable is normally\n",
    "distributed, the boundaries are given by the mean plus or minus three times the standard\n",
    "deviation, as approximately 99% of the data will be distributed between those limits. For\n",
    "normally, as well as not normally, distributed variables, we can determine the limits using\n",
    "the inter-quartile range proximity rules or by directly setting the limits to the 5th and 95th\n",
    "quantiles."
   ]
  },
  {
   "cell_type": "code",
   "execution_count": 1,
   "id": "eb2067fc",
   "metadata": {},
   "outputs": [],
   "source": [
    "import numpy as np\n",
    "import pandas as pd\n",
    "import matplotlib.pyplot as plt\n",
    "import seaborn as sns\n",
    "from sklearn.datasets import load_boston\n",
    "%matplotlib inline"
   ]
  },
  {
   "cell_type": "code",
   "execution_count": 3,
   "id": "3e650353",
   "metadata": {},
   "outputs": [],
   "source": [
    "import warnings\n",
    "warnings.filterwarnings('ignore')"
   ]
  },
  {
   "cell_type": "code",
   "execution_count": 4,
   "id": "50f191c3",
   "metadata": {},
   "outputs": [],
   "source": [
    "boston_dataset = load_boston()"
   ]
  },
  {
   "cell_type": "code",
   "execution_count": 5,
   "id": "356a8a16",
   "metadata": {},
   "outputs": [
    {
     "data": {
      "text/html": [
       "<div>\n",
       "<style scoped>\n",
       "    .dataframe tbody tr th:only-of-type {\n",
       "        vertical-align: middle;\n",
       "    }\n",
       "\n",
       "    .dataframe tbody tr th {\n",
       "        vertical-align: top;\n",
       "    }\n",
       "\n",
       "    .dataframe thead th {\n",
       "        text-align: right;\n",
       "    }\n",
       "</style>\n",
       "<table border=\"1\" class=\"dataframe\">\n",
       "  <thead>\n",
       "    <tr style=\"text-align: right;\">\n",
       "      <th></th>\n",
       "      <th>RM</th>\n",
       "      <th>LSTAT</th>\n",
       "      <th>CRIM</th>\n",
       "    </tr>\n",
       "  </thead>\n",
       "  <tbody>\n",
       "    <tr>\n",
       "      <th>0</th>\n",
       "      <td>6.575</td>\n",
       "      <td>4.98</td>\n",
       "      <td>0.00632</td>\n",
       "    </tr>\n",
       "    <tr>\n",
       "      <th>1</th>\n",
       "      <td>6.421</td>\n",
       "      <td>9.14</td>\n",
       "      <td>0.02731</td>\n",
       "    </tr>\n",
       "    <tr>\n",
       "      <th>2</th>\n",
       "      <td>7.185</td>\n",
       "      <td>4.03</td>\n",
       "      <td>0.02729</td>\n",
       "    </tr>\n",
       "    <tr>\n",
       "      <th>3</th>\n",
       "      <td>6.998</td>\n",
       "      <td>2.94</td>\n",
       "      <td>0.03237</td>\n",
       "    </tr>\n",
       "    <tr>\n",
       "      <th>4</th>\n",
       "      <td>7.147</td>\n",
       "      <td>5.33</td>\n",
       "      <td>0.06905</td>\n",
       "    </tr>\n",
       "    <tr>\n",
       "      <th>...</th>\n",
       "      <td>...</td>\n",
       "      <td>...</td>\n",
       "      <td>...</td>\n",
       "    </tr>\n",
       "    <tr>\n",
       "      <th>501</th>\n",
       "      <td>6.593</td>\n",
       "      <td>9.67</td>\n",
       "      <td>0.06263</td>\n",
       "    </tr>\n",
       "    <tr>\n",
       "      <th>502</th>\n",
       "      <td>6.120</td>\n",
       "      <td>9.08</td>\n",
       "      <td>0.04527</td>\n",
       "    </tr>\n",
       "    <tr>\n",
       "      <th>503</th>\n",
       "      <td>6.976</td>\n",
       "      <td>5.64</td>\n",
       "      <td>0.06076</td>\n",
       "    </tr>\n",
       "    <tr>\n",
       "      <th>504</th>\n",
       "      <td>6.794</td>\n",
       "      <td>6.48</td>\n",
       "      <td>0.10959</td>\n",
       "    </tr>\n",
       "    <tr>\n",
       "      <th>505</th>\n",
       "      <td>6.030</td>\n",
       "      <td>7.88</td>\n",
       "      <td>0.04741</td>\n",
       "    </tr>\n",
       "  </tbody>\n",
       "</table>\n",
       "<p>506 rows × 3 columns</p>\n",
       "</div>"
      ],
      "text/plain": [
       "        RM  LSTAT     CRIM\n",
       "0    6.575   4.98  0.00632\n",
       "1    6.421   9.14  0.02731\n",
       "2    7.185   4.03  0.02729\n",
       "3    6.998   2.94  0.03237\n",
       "4    7.147   5.33  0.06905\n",
       "..     ...    ...      ...\n",
       "501  6.593   9.67  0.06263\n",
       "502  6.120   9.08  0.04527\n",
       "503  6.976   5.64  0.06076\n",
       "504  6.794   6.48  0.10959\n",
       "505  6.030   7.88  0.04741\n",
       "\n",
       "[506 rows x 3 columns]"
      ]
     },
     "execution_count": 5,
     "metadata": {},
     "output_type": "execute_result"
    }
   ],
   "source": [
    "boston = pd.DataFrame(boston_dataset.data, columns=boston_dataset.feature_names)[['RM', 'LSTAT', 'CRIM']]\n",
    "boston"
   ]
  },
  {
   "cell_type": "code",
   "execution_count": 6,
   "id": "6effa754",
   "metadata": {},
   "outputs": [
    {
     "data": {
      "text/plain": [
       "<AxesSubplot:xlabel='RM', ylabel='Density'>"
      ]
     },
     "execution_count": 6,
     "metadata": {},
     "output_type": "execute_result"
    },
    {
     "data": {
      "image/png": "[encoded data removed]",
      "text/plain": [
       "<Figure size 432x288 with 1 Axes>"
      ]
     },
     "metadata": {
      "needs_background": "light"
     },
     "output_type": "display_data"
    }
   ],
   "source": [
    "sns.distplot(boston['RM'], bins=30)"
   ]
  },
  {
   "cell_type": "code",
   "execution_count": 7,
   "id": "99e93ba3",
   "metadata": {},
   "outputs": [
    {
     "data": {
      "text/plain": [
       "<AxesSubplot:xlabel='RM'>"
      ]
     },
     "execution_count": 7,
     "metadata": {},
     "output_type": "execute_result"
    },
    {
     "data": {
      "image/png": "[encoded data removed]",
      "text/plain": [
       "<Figure size 432x288 with 1 Axes>"
      ]
     },
     "metadata": {
      "needs_background": "light"
     },
     "output_type": "display_data"
    }
   ],
   "source": [
    "sns.boxplot(boston['RM'])"
   ]
  },
  {
   "cell_type": "code",
   "execution_count": 8,
   "id": "031d73df",
   "metadata": {},
   "outputs": [],
   "source": [
    "#function for defing IQR and retun boundaries\n",
    "def find_boundaries(df, variable, distance):\n",
    "    IQR = df[variable].quantile(0.75) - df[variable].quantile(0.25)\n",
    "    lower_boundary = df[variable].quantile(0.25) - (IQR * distance)\n",
    "    upper_boundary = df[variable].quantile(0.75) + (IQR * distance)\n",
    "    return upper_boundary, lower_boundary"
   ]
  },
  {
   "cell_type": "code",
   "execution_count": 9,
   "id": "152c141f",
   "metadata": {},
   "outputs": [],
   "source": [
    "RM_upper_limit, RM_lower_limit = find_boundaries(boston, 'RM', 1.5)"
   ]
  },
  {
   "cell_type": "code",
   "execution_count": 20,
   "id": "b7491bb0",
   "metadata": {},
   "outputs": [],
   "source": [
    "LSTAT_upper_limit, LSTAT_lower_limit = find_boundaries(boston, 'LSTAT',1.5)"
   ]
  },
  {
   "cell_type": "code",
   "execution_count": 22,
   "id": "d98e55f6",
   "metadata": {},
   "outputs": [],
   "source": [
    "CRIM_upper_limit, CRIM_lower_limit  = find_boundaries(boston,'CRIM',1.5)"
   ]
  },
  {
   "cell_type": "code",
   "execution_count": 10,
   "id": "5946eca6",
   "metadata": {},
   "outputs": [
    {
     "data": {
      "text/plain": [
       "(7.730500000000001, 4.778499999999999)"
      ]
     },
     "execution_count": 10,
     "metadata": {},
     "output_type": "execute_result"
    }
   ],
   "source": [
    "RM_upper_limit, RM_lower_limit"
   ]
  },
  {
   "cell_type": "code",
   "execution_count": 18,
   "id": "6330cdb0",
   "metadata": {},
   "outputs": [],
   "source": [
    "outliers_RM = np.where(boston['RM'] > RM_upper_limit, True,\n",
    "                       np.where(boston['RM'] < RM_lower_limit, True, False))\n",
    "\n"
   ]
  },
  {
   "cell_type": "code",
   "execution_count": 21,
   "id": "225df627",
   "metadata": {},
   "outputs": [],
   "source": [
    "outliers_LSTAT = np.where(boston['LSTAT'] > LSTAT_upper_limit, True,\n",
    "                       np.where(boston['LSTAT'] < LSTAT_lower_limit, True, False))"
   ]
  },
  {
   "cell_type": "code",
   "execution_count": 23,
   "id": "c1e591a3",
   "metadata": {},
   "outputs": [],
   "source": [
    "outliers_CRIM = np.where(boston['CRIM'] > CRIM_upper_limit, True,\n",
    "                       np.where(boston['CRIM'] < CRIM_lower_limit, True, False))"
   ]
  },
  {
   "cell_type": "code",
   "execution_count": 24,
   "id": "b703b3dd",
   "metadata": {},
   "outputs": [],
   "source": [
    "boston_trimmed1 = boston.loc[~(outliers_RM)]\n"
   ]
  },
  {
   "cell_type": "code",
   "execution_count": 26,
   "id": "29b95420",
   "metadata": {},
   "outputs": [
    {
     "data": {
      "text/html": [
       "<div>\n",
       "<style scoped>\n",
       "    .dataframe tbody tr th:only-of-type {\n",
       "        vertical-align: middle;\n",
       "    }\n",
       "\n",
       "    .dataframe tbody tr th {\n",
       "        vertical-align: top;\n",
       "    }\n",
       "\n",
       "    .dataframe thead th {\n",
       "        text-align: right;\n",
       "    }\n",
       "</style>\n",
       "<table border=\"1\" class=\"dataframe\">\n",
       "  <thead>\n",
       "    <tr style=\"text-align: right;\">\n",
       "      <th></th>\n",
       "      <th>RM</th>\n",
       "      <th>LSTAT</th>\n",
       "      <th>CRIM</th>\n",
       "    </tr>\n",
       "  </thead>\n",
       "  <tbody>\n",
       "    <tr>\n",
       "      <th>0</th>\n",
       "      <td>6.575</td>\n",
       "      <td>4.98</td>\n",
       "      <td>0.00632</td>\n",
       "    </tr>\n",
       "    <tr>\n",
       "      <th>1</th>\n",
       "      <td>6.421</td>\n",
       "      <td>9.14</td>\n",
       "      <td>0.02731</td>\n",
       "    </tr>\n",
       "    <tr>\n",
       "      <th>2</th>\n",
       "      <td>7.185</td>\n",
       "      <td>4.03</td>\n",
       "      <td>0.02729</td>\n",
       "    </tr>\n",
       "    <tr>\n",
       "      <th>3</th>\n",
       "      <td>6.998</td>\n",
       "      <td>2.94</td>\n",
       "      <td>0.03237</td>\n",
       "    </tr>\n",
       "    <tr>\n",
       "      <th>4</th>\n",
       "      <td>7.147</td>\n",
       "      <td>5.33</td>\n",
       "      <td>0.06905</td>\n",
       "    </tr>\n",
       "    <tr>\n",
       "      <th>...</th>\n",
       "      <td>...</td>\n",
       "      <td>...</td>\n",
       "      <td>...</td>\n",
       "    </tr>\n",
       "    <tr>\n",
       "      <th>501</th>\n",
       "      <td>6.593</td>\n",
       "      <td>9.67</td>\n",
       "      <td>0.06263</td>\n",
       "    </tr>\n",
       "    <tr>\n",
       "      <th>502</th>\n",
       "      <td>6.120</td>\n",
       "      <td>9.08</td>\n",
       "      <td>0.04527</td>\n",
       "    </tr>\n",
       "    <tr>\n",
       "      <th>503</th>\n",
       "      <td>6.976</td>\n",
       "      <td>5.64</td>\n",
       "      <td>0.06076</td>\n",
       "    </tr>\n",
       "    <tr>\n",
       "      <th>504</th>\n",
       "      <td>6.794</td>\n",
       "      <td>6.48</td>\n",
       "      <td>0.10959</td>\n",
       "    </tr>\n",
       "    <tr>\n",
       "      <th>505</th>\n",
       "      <td>6.030</td>\n",
       "      <td>7.88</td>\n",
       "      <td>0.04741</td>\n",
       "    </tr>\n",
       "  </tbody>\n",
       "</table>\n",
       "<p>476 rows × 3 columns</p>\n",
       "</div>"
      ],
      "text/plain": [
       "        RM  LSTAT     CRIM\n",
       "0    6.575   4.98  0.00632\n",
       "1    6.421   9.14  0.02731\n",
       "2    7.185   4.03  0.02729\n",
       "3    6.998   2.94  0.03237\n",
       "4    7.147   5.33  0.06905\n",
       "..     ...    ...      ...\n",
       "501  6.593   9.67  0.06263\n",
       "502  6.120   9.08  0.04527\n",
       "503  6.976   5.64  0.06076\n",
       "504  6.794   6.48  0.10959\n",
       "505  6.030   7.88  0.04741\n",
       "\n",
       "[476 rows x 3 columns]"
      ]
     },
     "execution_count": 26,
     "metadata": {},
     "output_type": "execute_result"
    }
   ],
   "source": [
    "boston_trimmed1"
   ]
  },
  {
   "cell_type": "code",
   "execution_count": 27,
   "id": "b2a6fa2c",
   "metadata": {},
   "outputs": [
    {
     "data": {
      "text/plain": [
       "<AxesSubplot:xlabel='RM'>"
      ]
     },
     "execution_count": 27,
     "metadata": {},
     "output_type": "execute_result"
    },
    {
     "data": {
      "image/png": "[encoded data removed]",
      "text/plain": [
       "<Figure size 432x288 with 1 Axes>"
      ]
     },
     "metadata": {
      "needs_background": "light"
     },
     "output_type": "display_data"
    }
   ],
   "source": [
    "sns.boxplot(boston_trimmed1['RM'])"
   ]
  },
  {
   "cell_type": "code",
   "execution_count": 28,
   "id": "8d510429",
   "metadata": {},
   "outputs": [],
   "source": [
    "#Wecan also perform following ways\n",
    "def find_boundaries1(df, variable, distance):\n",
    "    lower_boundary = df[variable].mean() - (df[variable].std() *distance)\n",
    "    upper_boundary = df[variable].mean() + (df[variable].std() *distance)\n",
    "    return upper_boundary, lower_boundary"
   ]
  },
  {
   "cell_type": "code",
   "execution_count": 29,
   "id": "dd7e09e3",
   "metadata": {},
   "outputs": [],
   "source": [
    "def find_boundaries2(df, variable):\n",
    "    lower_boundary = df[variable].quantile(0.05)\n",
    "    upper_boundary = df[variable].quantile(0.95)\n",
    "    return upper_boundary, lower_boundary"
   ]
  },
  {
   "cell_type": "code",
   "execution_count": 30,
   "id": "72b45924",
   "metadata": {},
   "outputs": [],
   "source": [
    "boston_trimmed2 = boston.loc[~(outliers_RM + outliers_LSTAT + outliers_CRIM)]"
   ]
  },
  {
   "cell_type": "markdown",
   "id": "ed4cfb41",
   "metadata": {},
   "source": [
    "### Performing winsorization"
   ]
  },
  {
   "cell_type": "markdown",
   "id": "bb16a4f5",
   "metadata": {},
   "source": [
    "Winsorization, or winsorizing, is the process of transforming the data by limiting the\n",
    "extreme values, that is, the outliers, to a certain arbitrary value, closer to the mean of the\n",
    "distribution. Winsorizing is different from trimming because the extreme values are not\n",
    "removed, but are instead replaced by other values. A typical strategy involves setting\n",
    "outliers to a specified percentile."
   ]
  },
  {
   "cell_type": "code",
   "execution_count": 32,
   "id": "93052882",
   "metadata": {},
   "outputs": [],
   "source": [
    "def winsorize(df, variable, upper_limit, lower_limit):\n",
    "    return np.where(df[variable] > upper_limit, upper_limit,np.where(df[variable] < lower_limit, lower_limit,df[variable]))"
   ]
  },
  {
   "cell_type": "code",
   "execution_count": 33,
   "id": "6f2ab1d5",
   "metadata": {},
   "outputs": [],
   "source": [
    "boston['RM']= winsorize(boston, 'RM', boston['RM'].quantile(0.95),\n",
    "boston['RM'].quantile(0.05))"
   ]
  },
  {
   "cell_type": "code",
   "execution_count": 34,
   "id": "cceb508f",
   "metadata": {},
   "outputs": [
    {
     "data": {
      "text/plain": [
       "<AxesSubplot:xlabel='RM'>"
      ]
     },
     "execution_count": 34,
     "metadata": {},
     "output_type": "execute_result"
    },
    {
     "data": {
      "image/png": "[encoded data removed]",
      "text/plain": [
       "<Figure size 432x288 with 1 Axes>"
      ]
     },
     "metadata": {
      "needs_background": "light"
     },
     "output_type": "display_data"
    }
   ],
   "source": [
    "sns.boxplot(boston['RM'])"
   ]
  },
  {
   "cell_type": "code",
   "execution_count": 35,
   "id": "6a2fa83e",
   "metadata": {},
   "outputs": [],
   "source": [
    "#using feature engineering \n",
    "#from feature_engine.outlier_removers import Winsorizer\n",
    "#windsorizer = Winsorizer(distribution='quantiles', tail='both', variables=['RM', 'LSTAT', 'CRIM'])\n",
    "#windsorizer.fit(boston)\n",
    "#boston_t = windsorizer.transform(boston)\n",
    "#windsorizer.right_tail_caps_\n"
   ]
  },
  {
   "cell_type": "markdown",
   "id": "71e72785",
   "metadata": {},
   "source": [
    "### Capping the variable at arbitrary maximum and minimum values"
   ]
  },
  {
   "cell_type": "markdown",
   "id": "6f8c7bfa",
   "metadata": {},
   "source": [
    "Similarly to winsorization, we can replace the extreme values by values closer to other\n",
    "values in the variable, by determining the maximum and minimum boundaries with the\n",
    "mean plus or minus the standard deviation, or the inter-quartile range proximity rule. This\n",
    "procedure is also called bottom and top coding, censoring, or capping. We can cap both\n",
    "extremes of the distribution or just one of the tails, depending on where we find the outliers\n",
    "in the variable. In this recipe, we will replace extreme values by the mean and standard\n",
    "deviation or the inter-quartile range proximity rule, using pandas, NumPy, and Featureengine, and using the Boston House Prices dataset from scikit-learn."
   ]
  },
  {
   "cell_type": "code",
   "execution_count": 38,
   "id": "0527ab0d",
   "metadata": {},
   "outputs": [],
   "source": [
    "def find_skewed_boundaries(df, variable, distance):\n",
    "    IQR = df[variable].quantile(0.75) - df[variable].quantile(0.25)\n",
    "    lower_boundary = df[variable].quantile(0.25) - (IQR * distance)\n",
    "    upper_boundary = df[variable].quantile(0.75) + (IQR * distance)\n",
    "    return upper_boundary, lower_boundary\n"
   ]
  },
  {
   "cell_type": "code",
   "execution_count": 39,
   "id": "41a789cf",
   "metadata": {},
   "outputs": [],
   "source": [
    "#make a function to find the limits using the mean and the standard deviation\n",
    "def find_normal_boundaries(df, variable, distance):\n",
    "    upper_boundary = df[variable].mean() + distance *df[variable].std()\n",
    "    lower_boundary = df[variable].mean() - distance *df[variable].std()\n",
    "    return upper_boundary, lower_boundary"
   ]
  },
  {
   "cell_type": "code",
   "execution_count": 40,
   "id": "22585de0",
   "metadata": {},
   "outputs": [],
   "source": [
    "RM_upper_limit, RM_lower_limit = \\\n",
    "find_normal_boundaries(boston, 'RM', 3)\n",
    "LSTAT_upper_limit, LSTAT_lower_limit = \\\n",
    "find_normal_boundaries(boston, 'LSTAT', 3)\n",
    "CRIM_upper_limit, CRIM_lower_limit = \\\n",
    "find_normal_boundaries(boston, 'CRIM', 3)"
   ]
  },
  {
   "cell_type": "code",
   "execution_count": 41,
   "id": "ad4b4648",
   "metadata": {},
   "outputs": [],
   "source": [
    "boston['RM']= np.where(boston['RM'] > RM_upper_limit,\n",
    " RM_upper_limit,\n",
    " np.where(boston['RM'] < RM_lower_limit,\n",
    " RM_lower_limit, boston['RM']))"
   ]
  },
  {
   "cell_type": "code",
   "execution_count": 42,
   "id": "353d7548",
   "metadata": {},
   "outputs": [],
   "source": [
    "#using feature engineering"
   ]
  },
  {
   "cell_type": "code",
   "execution_count": 44,
   "id": "17f54e37",
   "metadata": {},
   "outputs": [],
   "source": [
    "#from feature_engine.outlier_removers import Winsorizer"
   ]
  },
  {
   "cell_type": "code",
   "execution_count": 45,
   "id": "b6d53745",
   "metadata": {},
   "outputs": [],
   "source": [
    "#windsorizer = Winsorizer(distribution='gaussian', tail='both',fold=3, variables=['RM', 'LSTAT', 'CRIM'])"
   ]
  },
  {
   "cell_type": "code",
   "execution_count": 46,
   "id": "88b2c4d3",
   "metadata": {},
   "outputs": [],
   "source": [
    "#windsorizer.fit(boston)"
   ]
  },
  {
   "cell_type": "code",
   "execution_count": 47,
   "id": "28ffb17f",
   "metadata": {},
   "outputs": [],
   "source": [
    "#boston_t = windsorizer.transform(boston)"
   ]
  },
  {
   "cell_type": "markdown",
   "id": "8fbd76f9",
   "metadata": {},
   "source": [
    "### Performing zero-coding – capping the variable at zero"
   ]
  },
  {
   "cell_type": "markdown",
   "id": "1d4812bd",
   "metadata": {},
   "source": [
    "In econometrics and statistics, top-coding and bottom-coding refer to the act of censoring\n",
    "data points, the values of which are above or below a certain number or threshold,\n",
    "respectively. In essence, top and bottom coding is what we have covered in the previous\n",
    "recipe, where we capped the minimum or maximum values of variables at a certain value,\n",
    "which we determined with the mean and standard deviation, the inter-quartile range\n",
    "proximity rule, or the percentiles. Zero-coding is a variant of bottom-coding and refers to\n",
    "the process of capping, usually the lower value of the variable, at zero. It is commonly used\n",
    "for variables that cannot take negative values, such as age or income. In this recipe, we will\n",
    "learn how to implement zero-coding in a toy dataframe using pandas and Feature-engine."
   ]
  },
  {
   "cell_type": "code",
   "execution_count": 48,
   "id": "f6cd7d6e",
   "metadata": {},
   "outputs": [
    {
     "data": {
      "text/html": [
       "<div>\n",
       "<style scoped>\n",
       "    .dataframe tbody tr th:only-of-type {\n",
       "        vertical-align: middle;\n",
       "    }\n",
       "\n",
       "    .dataframe tbody tr th {\n",
       "        vertical-align: top;\n",
       "    }\n",
       "\n",
       "    .dataframe thead th {\n",
       "        text-align: right;\n",
       "    }\n",
       "</style>\n",
       "<table border=\"1\" class=\"dataframe\">\n",
       "  <thead>\n",
       "    <tr style=\"text-align: right;\">\n",
       "      <th></th>\n",
       "      <th>x</th>\n",
       "      <th>y</th>\n",
       "      <th>z</th>\n",
       "    </tr>\n",
       "  </thead>\n",
       "  <tbody>\n",
       "    <tr>\n",
       "      <th>0</th>\n",
       "      <td>1.582518</td>\n",
       "      <td>6.903260</td>\n",
       "      <td>9.695655</td>\n",
       "    </tr>\n",
       "    <tr>\n",
       "      <th>1</th>\n",
       "      <td>2.706032</td>\n",
       "      <td>4.930279</td>\n",
       "      <td>14.363733</td>\n",
       "    </tr>\n",
       "    <tr>\n",
       "      <th>2</th>\n",
       "      <td>3.915985</td>\n",
       "      <td>4.688840</td>\n",
       "      <td>15.803355</td>\n",
       "    </tr>\n",
       "    <tr>\n",
       "      <th>3</th>\n",
       "      <td>-0.141755</td>\n",
       "      <td>3.488652</td>\n",
       "      <td>17.403682</td>\n",
       "    </tr>\n",
       "    <tr>\n",
       "      <th>4</th>\n",
       "      <td>2.719057</td>\n",
       "      <td>2.388501</td>\n",
       "      <td>20.859069</td>\n",
       "    </tr>\n",
       "  </tbody>\n",
       "</table>\n",
       "</div>"
      ],
      "text/plain": [
       "          x         y          z\n",
       "0  1.582518  6.903260   9.695655\n",
       "1  2.706032  4.930279  14.363733\n",
       "2  3.915985  4.688840  15.803355\n",
       "3 -0.141755  3.488652  17.403682\n",
       "4  2.719057  2.388501  20.859069"
      ]
     },
     "execution_count": 48,
     "metadata": {},
     "output_type": "execute_result"
    }
   ],
   "source": [
    "np.random.seed(29) # for reproducibility\n",
    "\n",
    "n = 200 # in the book we pass directly 200 within brackets, without defining n\n",
    "x = np.random.randn(n) + 2\n",
    "y = np.random.randn(n) * 2 + 4\n",
    "z = np.random.randn(n) * 5 + 10\n",
    "\n",
    "data = pd.DataFrame([x, y, z]).T\n",
    "data.columns = ['x', 'y', 'z']\n",
    "\n",
    "data.head()"
   ]
  },
  {
   "cell_type": "code",
   "execution_count": 49,
   "id": "b408f38f",
   "metadata": {},
   "outputs": [
    {
     "data": {
      "text/plain": [
       "x   -1.505401\n",
       "y   -0.901451\n",
       "z   -1.552986\n",
       "dtype: float64"
      ]
     },
     "execution_count": 49,
     "metadata": {},
     "output_type": "execute_result"
    }
   ],
   "source": [
    "data.min()"
   ]
  },
  {
   "cell_type": "code",
   "execution_count": 50,
   "id": "51854c25",
   "metadata": {},
   "outputs": [
    {
     "data": {
      "image/png": "[encoded data removed]",
      "text/plain": [
       "<Figure size 432x288 with 4 Axes>"
      ]
     },
     "metadata": {
      "needs_background": "light"
     },
     "output_type": "display_data"
    }
   ],
   "source": [
    "data.hist(bins=30)\n",
    "plt.show()"
   ]
  },
  {
   "cell_type": "code",
   "execution_count": 51,
   "id": "c6b134f8",
   "metadata": {},
   "outputs": [
    {
     "data": {
      "text/plain": [
       "x    0.0\n",
       "y    0.0\n",
       "z    0.0\n",
       "dtype: float64"
      ]
     },
     "execution_count": 51,
     "metadata": {},
     "output_type": "execute_result"
    }
   ],
   "source": [
    "data.loc[data['x'] < 0, 'x'] = 0\n",
    "data.loc[data['y'] < 0, 'y'] = 0\n",
    "data.loc[data['z'] < 0, 'z'] = 0\n",
    "\n",
    "data.min()"
   ]
  },
  {
   "cell_type": "code",
   "execution_count": 52,
   "id": "f62c032c",
   "metadata": {},
   "outputs": [
    {
     "data": {
      "image/png": "[encoded data removed]",
      "text/plain": [
       "<Figure size 432x288 with 4 Axes>"
      ]
     },
     "metadata": {
      "needs_background": "light"
     },
     "output_type": "display_data"
    }
   ],
   "source": [
    "data.hist(bins=30)\n",
    "plt.show()"
   ]
  },
  {
   "cell_type": "markdown",
   "id": "2512b60e",
   "metadata": {},
   "source": [
    "### Zero coding with feature-engine"
   ]
  },
  {
   "cell_type": "code",
   "execution_count": 53,
   "id": "2c67b899",
   "metadata": {},
   "outputs": [],
   "source": [
    "#from feature_engine.outlier_removers import ArbitraryOutlierCapper#"
   ]
  },
  {
   "cell_type": "code",
   "execution_count": 54,
   "id": "646ed02c",
   "metadata": {},
   "outputs": [],
   "source": [
    "#windsorizer = ArbitraryOutlierCapper(max_capping_dict=None, min_capping_dict={'x':0, 'y':0, 'z':0})\n"
   ]
  },
  {
   "cell_type": "code",
   "execution_count": 55,
   "id": "04b6ff18",
   "metadata": {},
   "outputs": [],
   "source": [
    "#windsorizer.fit(data)\n",
    "#data_t = windsorizer.transform(data)"
   ]
  },
  {
   "cell_type": "markdown",
   "id": "c66bf5c7",
   "metadata": {},
   "source": [
    "### Thank You"
   ]
  }
 ],
 "metadata": {
  "kernelspec": {
   "display_name": "Python 3 (ipykernel)",
   "language": "python",
   "name": "python3"
  },
  "language_info": {
   "codemirror_mode": {
    "name": "ipython",
    "version": 3
   },
   "file_extension": ".py",
   "mimetype": "text/x-python",
   "name": "python",
   "nbconvert_exporter": "python",
   "pygments_lexer": "ipython3",
   "version": "3.9.7"
  }
 },
 "nbformat": 4,
 "nbformat_minor": 5
}
